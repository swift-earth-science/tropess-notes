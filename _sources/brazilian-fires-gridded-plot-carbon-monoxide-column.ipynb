{
 "cells": [
  {
   "attachments": {},
   "cell_type": "markdown",
   "metadata": {},
   "source": [
    "# Brazilian Fires - Carbon Monoxide (CO) - CrIS JPSS-1\n",
    "\n",
    "## Total Column - gridded data (14km x 14km) plots\n",
    "\n",
    "This code plots the Carbon Monoxide (CO) total column for each day from 01-Jun-2023 to 02-Jun-2023."
   ]
  },
  {
   "cell_type": "code",
   "execution_count": 16,
   "metadata": {},
   "outputs": [],
   "source": [
    "import datetime\n",
    "import contextlib\n",
    "\n",
    "from pathlib import Path\n",
    "import pandas as pd\n",
    "\n",
    "import numpy as np\n",
    "from netCDF4 import Dataset\n",
    "\n",
    "import matplotlib.pyplot as plt\n",
    "\n",
    "from mpl_toolkits.basemap import Basemap\n",
    "\n",
    "from scipy.interpolate import griddata\n",
    "from scipy.spatial import cKDTree\n",
    "\n",
    "import imageio.v2 as imageio"
   ]
  },
  {
   "cell_type": "code",
   "execution_count": 18,
   "metadata": {},
   "outputs": [],
   "source": [
    "# Specify date range\n",
    "start_date = datetime.date(2022, 8, 1)\n",
    "end_date = datetime.date(2022, 8, 31)\n",
    "\n",
    "# Loop through the date range and plot Carbon Monoxide for each day\n",
    "for current_date in pd.date_range(start_date, end_date):\n",
    "    data_file_date = current_date.strftime(\"%Y%m%d\")\n",
    "    \n",
    "    # We may not have data for certain days    \n",
    "    data_file_path = Path(f'./data/TROPESS_CrIS-JPSS1_L2_Summary_CO_{data_file_date}_MUSES_R1p17_FS_F0p6.nc')\n",
    "    if not data_file_path.exists():\n",
    "        continue\n",
    "\n",
    "    # Open the netCDF file\n",
    "    dataset = Dataset(data_file_path.as_posix(), 'r')\n",
    "\n",
    "    # Read the data from your variables\n",
    "    latitude = dataset.variables['latitude'][:]\n",
    "    longitude = dataset.variables['longitude'][:]\n",
    "    x_col = dataset.variables['x_col'][:]\n",
    "\n",
    "    dataset.close()\n",
    "\n",
    "    # Filter the data for South America only\n",
    "    latitude_max = 14.0\n",
    "    latitude_min = -26.0\n",
    "    longitude_max = -30.0\n",
    "    longitude_min = -86.0\n",
    "\n",
    "    south_america_only = np.where(\n",
    "        (latitude > latitude_min) & (latitude < latitude_max) & \n",
    "        (longitude > longitude_min) &(longitude < longitude_max)\n",
    "    )[0]\n",
    "\n",
    "    latitude = latitude[south_america_only]\n",
    "    longitude = longitude[south_america_only]\n",
    "    x_col = x_col[south_america_only]\n",
    "\n",
    "    # Calculate width and height\n",
    "    aspect_ratio = (longitude_max - longitude_min) / (latitude_max - latitude_min)\n",
    "    w = 3600; h = w / aspect_ratio\n",
    "\n",
    "    # Specify figure size (in inches)\n",
    "    dpi = 300; \n",
    "    plt.figure(figsize=(w / dpi, h / dpi))  \n",
    "\n",
    "    # Create a basemap instance\n",
    "    m = Basemap(projection='cyl', resolution='i',\n",
    "                llcrnrlat=latitude_min, urcrnrlat=latitude_max,  # set latitude limits to -56 and 24\n",
    "                llcrnrlon=longitude_min, urcrnrlon=longitude_max)  # set longitude limits to -96 and -30\n",
    "\n",
    "    m.drawcoastlines(linewidth=0.3)\n",
    "    m.drawcountries(linewidth=0.2)\n",
    "\n",
    "    # Draw parallels (latitude lines) and meridians (longitude lines)\n",
    "    parallels = np.arange(-90., 91., 10.)\n",
    "    m.drawparallels(parallels, labels=[True,False,False,False], linewidth=0.3)\n",
    "\n",
    "    meridians = np.arange(-180., 181., 10.)\n",
    "    m.drawmeridians(meridians, labels=[False,False,False,True], linewidth=0.3)\n",
    "\n",
    "    # Get CrIS pixel size in degrees, pixel is 14 x 14 km, 1 degree is roughly 111.1 km\n",
    "    cris_pixel_size_deg = 14.0 / 111.1 \n",
    "\n",
    "    # Get the grid for the interpolated values\n",
    "    grid_lat, grid_lon = np.mgrid[-26:13:cris_pixel_size_deg, -86:-29:cris_pixel_size_deg]\n",
    "\n",
    "    # Interpolate the data using griddata\n",
    "    grid_x_col = griddata((latitude, longitude), x_col, (grid_lat, grid_lon), method='linear', rescale=True)\n",
    "\n",
    "    # Find the distance to the nearest original point for each point in the interpolated grid\n",
    "    tree = cKDTree(np.vstack((latitude, longitude)).T)\n",
    "    dist, _ = tree.query(np.vstack((grid_lat.ravel(), grid_lon.ravel())).T)\n",
    "\n",
    "    # Reshape the distance array to have the same shape as the x_col grid\n",
    "    dist_grid = dist.reshape(grid_x_col.shape)\n",
    "\n",
    "    # Mask the interpolated values that are too far from any original point\n",
    "    max_distance_degrees = 3.0\n",
    "    grid_x_col[dist_grid > max_distance_degrees] = np.nan\n",
    "\n",
    "    # Plot the interpolated data using pcolormesh instead of scatter\n",
    "    sc = m.pcolormesh(grid_lon, grid_lat, grid_x_col, latlon=True, cmap='jet', alpha=0.7, vmin=60.0, vmax=200.0)\n",
    "\n",
    "    # Add a colorbar\n",
    "    cbar = m.colorbar(sc, location='bottom', pad=\"10%\")\n",
    "    cbar.set_label('Column-averaged dry-air mixing ratio of carbon monoxide from the surface to Top of Atmosphere (TOA), ppbv')\n",
    "\n",
    "    # set plot title\n",
    "    title_date = current_date.strftime(\"%d-%b-%Y\")\n",
    "    title_min = np.min(x_col)\n",
    "    title_max = np.max(x_col)\n",
    "    plt.title(f'TROPESS - CrIS JPSS-1 - Carbon Monoxide Column (XCO) - {title_date}\\nMin: {title_min:.01f}, Max: {title_max:.01f} ppbv')\n",
    "\n",
    "    # Save figure to PNG file\n",
    "    plt.savefig(f'./images/TROPESS_Brazilian-Fires_CrIS-JPSS-1_XCO_{title_date}.png', dpi=dpi, bbox_inches='tight')\n",
    "\n",
    "    plt.close()"
   ]
  },
  {
   "attachments": {},
   "cell_type": "markdown",
   "metadata": {},
   "source": [
    "Now generate an animated GIF from the saved figures."
   ]
  },
  {
   "cell_type": "code",
   "execution_count": 17,
   "metadata": {},
   "outputs": [
    {
     "ename": "OSError",
     "evalue": "image file is truncated",
     "output_type": "error",
     "traceback": [
      "\u001b[0;31m---------------------------------------------------------------------------\u001b[0m",
      "\u001b[0;31merror\u001b[0m                                     Traceback (most recent call last)",
      "File \u001b[0;32m~/Work/Git/Swift/tropess-notes/.venv/lib/python3.10/site-packages/PIL/ImageFile.py:249\u001b[0m, in \u001b[0;36mImageFile.load\u001b[0;34m(self)\u001b[0m\n\u001b[1;32m    248\u001b[0m \u001b[39mtry\u001b[39;00m:\n\u001b[0;32m--> 249\u001b[0m     s \u001b[39m=\u001b[39m read(\u001b[39mself\u001b[39;49m\u001b[39m.\u001b[39;49mdecodermaxblock)\n\u001b[1;32m    250\u001b[0m \u001b[39mexcept\u001b[39;00m (\u001b[39mIndexError\u001b[39;00m, struct\u001b[39m.\u001b[39merror) \u001b[39mas\u001b[39;00m e:\n\u001b[1;32m    251\u001b[0m     \u001b[39m# truncated png/gif\u001b[39;00m\n",
      "File \u001b[0;32m~/Work/Git/Swift/tropess-notes/.venv/lib/python3.10/site-packages/PIL/PngImagePlugin.py:941\u001b[0m, in \u001b[0;36mPngImageFile.load_read\u001b[0;34m(self, read_bytes)\u001b[0m\n\u001b[1;32m    939\u001b[0m \u001b[39mself\u001b[39m\u001b[39m.\u001b[39mfp\u001b[39m.\u001b[39mread(\u001b[39m4\u001b[39m)  \u001b[39m# CRC\u001b[39;00m\n\u001b[0;32m--> 941\u001b[0m cid, pos, length \u001b[39m=\u001b[39m \u001b[39mself\u001b[39;49m\u001b[39m.\u001b[39;49mpng\u001b[39m.\u001b[39;49mread()\n\u001b[1;32m    943\u001b[0m \u001b[39mif\u001b[39;00m cid \u001b[39mnot\u001b[39;00m \u001b[39min\u001b[39;00m [\u001b[39mb\u001b[39m\u001b[39m\"\u001b[39m\u001b[39mIDAT\u001b[39m\u001b[39m\"\u001b[39m, \u001b[39mb\u001b[39m\u001b[39m\"\u001b[39m\u001b[39mDDAT\u001b[39m\u001b[39m\"\u001b[39m, \u001b[39mb\u001b[39m\u001b[39m\"\u001b[39m\u001b[39mfdAT\u001b[39m\u001b[39m\"\u001b[39m]:\n",
      "File \u001b[0;32m~/Work/Git/Swift/tropess-notes/.venv/lib/python3.10/site-packages/PIL/PngImagePlugin.py:178\u001b[0m, in \u001b[0;36mChunkStream.read\u001b[0;34m(self)\u001b[0m\n\u001b[1;32m    177\u001b[0m     pos \u001b[39m=\u001b[39m \u001b[39mself\u001b[39m\u001b[39m.\u001b[39mfp\u001b[39m.\u001b[39mtell()\n\u001b[0;32m--> 178\u001b[0m     length \u001b[39m=\u001b[39m i32(s)\n\u001b[1;32m    180\u001b[0m \u001b[39mif\u001b[39;00m \u001b[39mnot\u001b[39;00m is_cid(cid):\n",
      "File \u001b[0;32m~/Work/Git/Swift/tropess-notes/.venv/lib/python3.10/site-packages/PIL/_binary.py:85\u001b[0m, in \u001b[0;36mi32be\u001b[0;34m(c, o)\u001b[0m\n\u001b[1;32m     84\u001b[0m \u001b[39mdef\u001b[39;00m \u001b[39mi32be\u001b[39m(c, o\u001b[39m=\u001b[39m\u001b[39m0\u001b[39m):\n\u001b[0;32m---> 85\u001b[0m     \u001b[39mreturn\u001b[39;00m unpack_from(\u001b[39m\"\u001b[39;49m\u001b[39m>I\u001b[39;49m\u001b[39m\"\u001b[39;49m, c, o)[\u001b[39m0\u001b[39m]\n",
      "\u001b[0;31merror\u001b[0m: unpack_from requires a buffer of at least 4 bytes for unpacking 4 bytes at offset 0 (actual buffer size is 0)",
      "\nThe above exception was the direct cause of the following exception:\n",
      "\u001b[0;31mOSError\u001b[0m                                   Traceback (most recent call last)",
      "Cell \u001b[0;32mIn[17], line 15\u001b[0m\n\u001b[1;32m     13\u001b[0m images \u001b[39m=\u001b[39m []\n\u001b[1;32m     14\u001b[0m \u001b[39mfor\u001b[39;00m filename \u001b[39min\u001b[39;00m files:\n\u001b[0;32m---> 15\u001b[0m     images\u001b[39m.\u001b[39mappend(imageio\u001b[39m.\u001b[39;49mimread(filename))\n\u001b[1;32m     17\u001b[0m \u001b[39m# Save the images as an animated gif\u001b[39;00m\n\u001b[1;32m     18\u001b[0m \u001b[39m# duration is the time spent on each image (in milliseconds)\u001b[39;00m\n\u001b[1;32m     19\u001b[0m imageio\u001b[39m.\u001b[39mmimsave(timelapse_file, images, duration\u001b[39m=\u001b[39m\u001b[39m1000.0\u001b[39m, loop\u001b[39m=\u001b[39m\u001b[39m0\u001b[39m)  \n",
      "File \u001b[0;32m~/Work/Git/Swift/tropess-notes/.venv/lib/python3.10/site-packages/imageio/v2.py:360\u001b[0m, in \u001b[0;36mimread\u001b[0;34m(uri, format, **kwargs)\u001b[0m\n\u001b[1;32m    357\u001b[0m imopen_args[\u001b[39m\"\u001b[39m\u001b[39mlegacy_mode\u001b[39m\u001b[39m\"\u001b[39m] \u001b[39m=\u001b[39m \u001b[39mTrue\u001b[39;00m\n\u001b[1;32m    359\u001b[0m \u001b[39mwith\u001b[39;00m imopen(uri, \u001b[39m\"\u001b[39m\u001b[39mri\u001b[39m\u001b[39m\"\u001b[39m, \u001b[39m*\u001b[39m\u001b[39m*\u001b[39mimopen_args) \u001b[39mas\u001b[39;00m file:\n\u001b[0;32m--> 360\u001b[0m     result \u001b[39m=\u001b[39m file\u001b[39m.\u001b[39;49mread(index\u001b[39m=\u001b[39;49m\u001b[39m0\u001b[39;49m, \u001b[39m*\u001b[39;49m\u001b[39m*\u001b[39;49mkwargs)\n\u001b[1;32m    362\u001b[0m \u001b[39mreturn\u001b[39;00m result\n",
      "File \u001b[0;32m~/Work/Git/Swift/tropess-notes/.venv/lib/python3.10/site-packages/imageio/plugins/pillow.py:224\u001b[0m, in \u001b[0;36mPillowPlugin.read\u001b[0;34m(self, index, mode, rotate, apply_gamma, writeable_output, pilmode, exifrotate, as_gray)\u001b[0m\n\u001b[1;32m    221\u001b[0m \u001b[39mif\u001b[39;00m \u001b[39misinstance\u001b[39m(index, \u001b[39mint\u001b[39m):\n\u001b[1;32m    222\u001b[0m     \u001b[39m# will raise IO error if index >= number of frames in image\u001b[39;00m\n\u001b[1;32m    223\u001b[0m     \u001b[39mself\u001b[39m\u001b[39m.\u001b[39m_image\u001b[39m.\u001b[39mseek(index)\n\u001b[0;32m--> 224\u001b[0m     image \u001b[39m=\u001b[39m \u001b[39mself\u001b[39;49m\u001b[39m.\u001b[39;49m_apply_transforms(\n\u001b[1;32m    225\u001b[0m         \u001b[39mself\u001b[39;49m\u001b[39m.\u001b[39;49m_image, mode, rotate, apply_gamma, writeable_output\n\u001b[1;32m    226\u001b[0m     )\n\u001b[1;32m    227\u001b[0m \u001b[39melse\u001b[39;00m:\n\u001b[1;32m    228\u001b[0m     iterator \u001b[39m=\u001b[39m \u001b[39mself\u001b[39m\u001b[39m.\u001b[39miter(\n\u001b[1;32m    229\u001b[0m         mode\u001b[39m=\u001b[39mmode,\n\u001b[1;32m    230\u001b[0m         rotate\u001b[39m=\u001b[39mrotate,\n\u001b[1;32m    231\u001b[0m         apply_gamma\u001b[39m=\u001b[39mapply_gamma,\n\u001b[1;32m    232\u001b[0m         writeable_output\u001b[39m=\u001b[39mwriteable_output,\n\u001b[1;32m    233\u001b[0m     )\n",
      "File \u001b[0;32m~/Work/Git/Swift/tropess-notes/.venv/lib/python3.10/site-packages/imageio/plugins/pillow.py:307\u001b[0m, in \u001b[0;36mPillowPlugin._apply_transforms\u001b[0;34m(self, image, mode, rotate, apply_gamma, writeable_output)\u001b[0m\n\u001b[1;32m    303\u001b[0m     \u001b[39melse\u001b[39;00m:  \u001b[39m# pragma: no cover\u001b[39;00m\n\u001b[1;32m    304\u001b[0m         \u001b[39m# Let pillow know that it is okay to return 16-bit\u001b[39;00m\n\u001b[1;32m    305\u001b[0m         image\u001b[39m.\u001b[39mmode \u001b[39m=\u001b[39m desired_mode\n\u001b[0;32m--> 307\u001b[0m image \u001b[39m=\u001b[39m np\u001b[39m.\u001b[39;49masarray(image)\n\u001b[1;32m    309\u001b[0m meta \u001b[39m=\u001b[39m \u001b[39mself\u001b[39m\u001b[39m.\u001b[39mmetadata(index\u001b[39m=\u001b[39m\u001b[39mself\u001b[39m\u001b[39m.\u001b[39m_image\u001b[39m.\u001b[39mtell(), exclude_applied\u001b[39m=\u001b[39m\u001b[39mFalse\u001b[39;00m)\n\u001b[1;32m    310\u001b[0m \u001b[39mif\u001b[39;00m rotate \u001b[39mand\u001b[39;00m \u001b[39m\"\u001b[39m\u001b[39mOrientation\u001b[39m\u001b[39m\"\u001b[39m \u001b[39min\u001b[39;00m meta:\n",
      "File \u001b[0;32m~/Work/Git/Swift/tropess-notes/.venv/lib/python3.10/site-packages/PIL/Image.py:696\u001b[0m, in \u001b[0;36mImage.__array_interface__\u001b[0;34m(self)\u001b[0m\n\u001b[1;32m    694\u001b[0m         new[\u001b[39m\"\u001b[39m\u001b[39mdata\u001b[39m\u001b[39m\"\u001b[39m] \u001b[39m=\u001b[39m \u001b[39mself\u001b[39m\u001b[39m.\u001b[39mtobytes(\u001b[39m\"\u001b[39m\u001b[39mraw\u001b[39m\u001b[39m\"\u001b[39m, \u001b[39m\"\u001b[39m\u001b[39mL\u001b[39m\u001b[39m\"\u001b[39m)\n\u001b[1;32m    695\u001b[0m     \u001b[39melse\u001b[39;00m:\n\u001b[0;32m--> 696\u001b[0m         new[\u001b[39m\"\u001b[39m\u001b[39mdata\u001b[39m\u001b[39m\"\u001b[39m] \u001b[39m=\u001b[39m \u001b[39mself\u001b[39;49m\u001b[39m.\u001b[39;49mtobytes()\n\u001b[1;32m    697\u001b[0m \u001b[39mexcept\u001b[39;00m \u001b[39mException\u001b[39;00m \u001b[39mas\u001b[39;00m e:\n\u001b[1;32m    698\u001b[0m     \u001b[39mif\u001b[39;00m \u001b[39mnot\u001b[39;00m \u001b[39misinstance\u001b[39m(e, (\u001b[39mMemoryError\u001b[39;00m, \u001b[39mRecursionError\u001b[39;00m)):\n",
      "File \u001b[0;32m~/Work/Git/Swift/tropess-notes/.venv/lib/python3.10/site-packages/PIL/Image.py:754\u001b[0m, in \u001b[0;36mImage.tobytes\u001b[0;34m(self, encoder_name, *args)\u001b[0m\n\u001b[1;32m    751\u001b[0m \u001b[39mif\u001b[39;00m encoder_name \u001b[39m==\u001b[39m \u001b[39m\"\u001b[39m\u001b[39mraw\u001b[39m\u001b[39m\"\u001b[39m \u001b[39mand\u001b[39;00m args \u001b[39m==\u001b[39m ():\n\u001b[1;32m    752\u001b[0m     args \u001b[39m=\u001b[39m \u001b[39mself\u001b[39m\u001b[39m.\u001b[39mmode\n\u001b[0;32m--> 754\u001b[0m \u001b[39mself\u001b[39;49m\u001b[39m.\u001b[39;49mload()\n\u001b[1;32m    756\u001b[0m \u001b[39mif\u001b[39;00m \u001b[39mself\u001b[39m\u001b[39m.\u001b[39mwidth \u001b[39m==\u001b[39m \u001b[39m0\u001b[39m \u001b[39mor\u001b[39;00m \u001b[39mself\u001b[39m\u001b[39m.\u001b[39mheight \u001b[39m==\u001b[39m \u001b[39m0\u001b[39m:\n\u001b[1;32m    757\u001b[0m     \u001b[39mreturn\u001b[39;00m \u001b[39mb\u001b[39m\u001b[39m\"\u001b[39m\u001b[39m\"\u001b[39m\n",
      "File \u001b[0;32m~/Work/Git/Swift/tropess-notes/.venv/lib/python3.10/site-packages/PIL/ImageFile.py:256\u001b[0m, in \u001b[0;36mImageFile.load\u001b[0;34m(self)\u001b[0m\n\u001b[1;32m    254\u001b[0m     \u001b[39melse\u001b[39;00m:\n\u001b[1;32m    255\u001b[0m         msg \u001b[39m=\u001b[39m \u001b[39m\"\u001b[39m\u001b[39mimage file is truncated\u001b[39m\u001b[39m\"\u001b[39m\n\u001b[0;32m--> 256\u001b[0m         \u001b[39mraise\u001b[39;00m \u001b[39mOSError\u001b[39;00m(msg) \u001b[39mfrom\u001b[39;00m \u001b[39me\u001b[39;00m\n\u001b[1;32m    258\u001b[0m \u001b[39mif\u001b[39;00m \u001b[39mnot\u001b[39;00m s:  \u001b[39m# truncated jpeg\u001b[39;00m\n\u001b[1;32m    259\u001b[0m     \u001b[39mif\u001b[39;00m LOAD_TRUNCATED_IMAGES:\n",
      "\u001b[0;31mOSError\u001b[0m: image file is truncated"
     ]
    }
   ],
   "source": [
    "timelapse_start_date = start_date.strftime(\"%d-%b-%Y\")\n",
    "timelapse_end_date = end_date.strftime(\"%d-%b-%Y\")\n",
    "timelapse_file = f'./images/TROPESS_Brazilian-Fires_CrIS-JPSS-1_XCO_Timelapse_{timelapse_start_date}_{timelapse_end_date}.gif'\n",
    "\n",
    "# Path to the directory where the images were saved in the previous step\n",
    "img_dir = Path('./images')\n",
    "\n",
    "# Get all file names in the directory\n",
    "files = sorted([img for img in img_dir.glob(\"TROPESS_Brazilian-Fires_CrIS-JPSS-1_XCO_*.png\")])\n",
    "\n",
    "# Read the images and add to a list\n",
    "with contextlib.redirect_stdout(None):\n",
    "    images = []\n",
    "    for filename in files:\n",
    "        images.append(imageio.imread(filename))\n",
    "\n",
    "    # Save the images as an animated gif\n",
    "    # duration is the time spent on each image (in milliseconds)\n",
    "    imageio.mimsave(timelapse_file, images, duration=1000.0, loop=0)  "
   ]
  },
  {
   "attachments": {},
   "cell_type": "markdown",
   "metadata": {},
   "source": [
    "## First day \n",
    "\n",
    "![first-day](./images/TROPESS_Brazilian-Fires_CrIS-JPSS-1_XCO_01-Aug-2022.png)\n",
    "\n",
    "## Timelapse\n",
    "\n",
    "![timelapse](./images/TROPESS_Brazilian-Fires_CrIS-JPSS-1_XCO_Timelapse_01-Aug-2022_31-Aug-2022.gif)"
   ]
  }
 ],
 "metadata": {
  "kernelspec": {
   "display_name": ".venv",
   "language": "python",
   "name": "python3"
  },
  "language_info": {
   "codemirror_mode": {
    "name": "ipython",
    "version": 3
   },
   "file_extension": ".py",
   "mimetype": "text/x-python",
   "name": "python",
   "nbconvert_exporter": "python",
   "pygments_lexer": "ipython3",
   "version": "3.10.0"
  },
  "vscode": {
   "interpreter": {
    "hash": "b7cfc0ec56b1d6945f565255d60f992e290460feecef750e75b6663be732b9eb"
   }
  },
  "widgets": {
   "application/vnd.jupyter.widget-state+json": {
    "state": {},
    "version_major": 2,
    "version_minor": 0
   }
  }
 },
 "nbformat": 4,
 "nbformat_minor": 4
}
